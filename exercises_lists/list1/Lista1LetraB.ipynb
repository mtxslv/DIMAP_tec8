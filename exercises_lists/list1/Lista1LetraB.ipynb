{
  "nbformat": 4,
  "nbformat_minor": 0,
  "metadata": {
    "colab": {
      "name": "Lista1LetraB.ipynb",
      "provenance": [],
      "collapsed_sections": []
    },
    "kernelspec": {
      "name": "python3",
      "display_name": "Python 3"
    }
  },
  "cells": [
    {
      "cell_type": "markdown",
      "metadata": {
        "id": "N5tp6AEvHnEG",
        "colab_type": "text"
      },
      "source": [
        "# Atividade:\n",
        "\n",
        "b. Gere aleatoriamente 1000 valores para a variável X e outros 1000 para a variável Y e execute as seguintes operações:\n",
        "\n",
        "1) Calcule a média, a mediana, a moda, a variância e o desvio padrão de cada variável;\n",
        "\n",
        "2) Plote o histograma de cada variável e use-o para interpretar o significado de cada uma das medidas calculadas em 1;\n",
        "\n",
        "3) \n",
        "\n",
        "4) Calcule as matrizes de covariância e de correlação e descreva o que cada uma representa.\n",
        "\n",
        "5)"
      ]
    },
    {
      "cell_type": "markdown",
      "metadata": {
        "id": "gWU0l9mf3gpI",
        "colab_type": "text"
      },
      "source": [
        "## Imports and Visualization Functions Definitions"
      ]
    },
    {
      "cell_type": "code",
      "metadata": {
        "id": "J_UNPL03G-cr",
        "colab_type": "code",
        "colab": {}
      },
      "source": [
        "# let's starting importing funny libs\n",
        "\n",
        "import numpy as np\n",
        "from scipy import stats\n",
        "from matplotlib import pyplot as plt\n",
        "import pandas as pd"
      ],
      "execution_count": 0,
      "outputs": []
    },
    {
      "cell_type": "code",
      "metadata": {
        "id": "e4oeigALP-oG",
        "colab_type": "code",
        "colab": {}
      },
      "source": [
        "# Let's code some visualization functions\n",
        "\n",
        "def my_hist_plot(data_sequence,data_sequence_name, bins, facecolor, x_lim):\n",
        "  n, bins, patches = plt.hist(data_sequence, bins, facecolor = facecolor)\n",
        "  plt.xlim((x_lim[0],x_lim[1]))\n",
        "  #plt.ylim((y_lim[0],y_lim[1]))\n",
        "  plt.title(data_sequence_name)\n",
        "\n",
        "def hist_both_step(ds1,ds2,ds1_name, ds2_name, bins):\n",
        "  '''\n",
        "  Plot both histograms, but in the same graph.\n",
        "\n",
        "  Inputs:\n",
        "    ds1: first data sequence\n",
        "    ds2: second data sequence\n",
        "    ds1_name: first data sequence label to be showed\n",
        "    ds2_name: second data sequence label to be showed\n",
        "    bins: how many bins to have\n",
        "\n",
        "  Returns: None\n",
        "\n",
        "  '''\n",
        "\n",
        "  fig, ax = plt.subplots()\n",
        "  ax.hist(ds1, bins, None, ec='red', fc='none', lw=1.5, histtype='stepfilled', label=ds1_name)\n",
        "  ax.hist(ds2, bins, None, ec='green', fc='none', lw=1.5, histtype='stepfilled', label=ds2_name)\n",
        "  ax.legend(loc='upper left')\n",
        "  plt.show()\n",
        "\n",
        "def hist_both_fill(ds1,ds2,ds1_name, ds2_name, bins, fill= 0.5):\n",
        "  '''\n",
        "  Plot both histograms, but in the same graph.\n",
        "\n",
        "  Inputs:\n",
        "    ds1: first data sequence\n",
        "    ds2: second data sequence\n",
        "    ds1_name: first data sequence label to be showed\n",
        "    ds2_name: second data sequence label to be showed\n",
        "    bins: how many bins to have\n",
        "    fill: a number between 0 and 1 to indicate how much filled must be the graph (0 - no filled; 1 - completely filled)\n",
        "\n",
        "  Returns: None\n",
        "\n",
        "  '''\n",
        "  plt.hist(ds1, bins, alpha= fill, label=ds1_name)\n",
        "  plt.hist(ds2, bins, alpha= fill, label=ds2_name)\n",
        "  plt.legend(loc='upper right')\n",
        "  plt.show()  \n",
        "  "
      ],
      "execution_count": 0,
      "outputs": []
    },
    {
      "cell_type": "markdown",
      "metadata": {
        "id": "uSB78D_H3o1s",
        "colab_type": "text"
      },
      "source": [
        "## Defining the Data"
      ]
    },
    {
      "cell_type": "code",
      "metadata": {
        "id": "f4s_w-sySY7l",
        "colab_type": "code",
        "colab": {}
      },
      "source": [
        "# in order to have some reproductibility\n",
        "\n",
        "np.random.seed(0)"
      ],
      "execution_count": 0,
      "outputs": []
    },
    {
      "cell_type": "code",
      "metadata": {
        "id": "e2eMlshXIr_u",
        "colab_type": "code",
        "colab": {}
      },
      "source": [
        "muX, sigmaX = 0, 1 # 1/3 = 3\n",
        "muY, sigmaY = 10, 1.67 # 3* 1.67 ~ 5\n",
        "\n",
        "decimal_places = 2\n",
        "\n",
        "X = muX + sigmaX * np.random.randn(1000)\n",
        "X = np.round(X,decimal_places)\n",
        "\n",
        "Y = muY + sigmaY * np.random.randn(1000)\n",
        "Y = np.round(Y,decimal_places)"
      ],
      "execution_count": 0,
      "outputs": []
    },
    {
      "cell_type": "markdown",
      "metadata": {
        "id": "S6BjNRUM3r4P",
        "colab_type": "text"
      },
      "source": [
        "## Data Parameters Table (b.1)"
      ]
    },
    {
      "cell_type": "code",
      "metadata": {
        "id": "GByKPvluJ3-r",
        "colab_type": "code",
        "outputId": "cfbbcb7b-5b37-4d85-fe22-f56b7a667a56",
        "colab": {
          "base_uri": "https://localhost:8080/",
          "height": 206
        }
      },
      "source": [
        "# first, let's collect the data in the form of a numpy array\n",
        "\n",
        "# be careful with the stats.mode() function! In order to get a single value, the axis argument must be passed.\n",
        "# I want just the numerical value. So, let's get the item in the first position.\n",
        "\n",
        "data = np.array([[X.mean(), np.median(X), stats.mode(X,axis=None)[0].item(), X.var(), X.std()],\n",
        "                 [Y.mean(), np.median(Y), stats.mode(Y,axis=None)[0].item(), Y.var(), Y.std()]]).transpose()\n",
        "\n",
        "# the indexes (line names) are the values we are looking for \n",
        "\n",
        "indexes = ['mean', 'median', 'mode', 'variance', 'standard deviation']\n",
        "\n",
        "# setting the dataframe...\n",
        "\n",
        "data_df = pd.DataFrame(data, index=indexes, columns=['X','Y'])\n",
        "\n",
        "# calling the dataframe\n",
        "\n",
        "data_df"
      ],
      "execution_count": 0,
      "outputs": [
        {
          "output_type": "execute_result",
          "data": {
            "text/html": [
              "<div>\n",
              "<style scoped>\n",
              "    .dataframe tbody tr th:only-of-type {\n",
              "        vertical-align: middle;\n",
              "    }\n",
              "\n",
              "    .dataframe tbody tr th {\n",
              "        vertical-align: top;\n",
              "    }\n",
              "\n",
              "    .dataframe thead th {\n",
              "        text-align: right;\n",
              "    }\n",
              "</style>\n",
              "<table border=\"1\" class=\"dataframe\">\n",
              "  <thead>\n",
              "    <tr style=\"text-align: right;\">\n",
              "      <th></th>\n",
              "      <th>X</th>\n",
              "      <th>Y</th>\n",
              "    </tr>\n",
              "  </thead>\n",
              "  <tbody>\n",
              "    <tr>\n",
              "      <th>mean</th>\n",
              "      <td>-0.045210</td>\n",
              "      <td>10.022780</td>\n",
              "    </tr>\n",
              "    <tr>\n",
              "      <th>median</th>\n",
              "      <td>-0.060000</td>\n",
              "      <td>10.040000</td>\n",
              "    </tr>\n",
              "    <tr>\n",
              "      <th>mode</th>\n",
              "      <td>0.400000</td>\n",
              "      <td>9.330000</td>\n",
              "    </tr>\n",
              "    <tr>\n",
              "      <th>variance</th>\n",
              "      <td>0.974127</td>\n",
              "      <td>2.614158</td>\n",
              "    </tr>\n",
              "    <tr>\n",
              "      <th>standard deviation</th>\n",
              "      <td>0.986979</td>\n",
              "      <td>1.616836</td>\n",
              "    </tr>\n",
              "  </tbody>\n",
              "</table>\n",
              "</div>"
            ],
            "text/plain": [
              "                           X          Y\n",
              "mean               -0.045210  10.022780\n",
              "median             -0.060000  10.040000\n",
              "mode                0.400000   9.330000\n",
              "variance            0.974127   2.614158\n",
              "standard deviation  0.986979   1.616836"
            ]
          },
          "metadata": {
            "tags": []
          },
          "execution_count": 48
        }
      ]
    },
    {
      "cell_type": "markdown",
      "metadata": {
        "id": "iZuaI6h0U3rQ",
        "colab_type": "text"
      },
      "source": [
        "With the previous dataframe (i.e., the table), we can check out that the mean and standard deviation are correct. They almost equals the set values!"
      ]
    },
    {
      "cell_type": "markdown",
      "metadata": {
        "id": "9bE0T2EB32sL",
        "colab_type": "text"
      },
      "source": [
        "## Histograms Visualization and Comparison (b.2)"
      ]
    },
    {
      "cell_type": "code",
      "metadata": {
        "id": "S2BpUMfyny9D",
        "colab_type": "code",
        "outputId": "b6d97034-dcb5-4de0-f95b-16da2a093835",
        "colab": {
          "base_uri": "https://localhost:8080/",
          "height": 809
        }
      },
      "source": [
        "Xx_lim = [0,2.5]\n",
        "Yx_lim= [8,12.5]\n",
        "plt.figure(0)\n",
        "my_hist_plot(X,'X',1000,'b',Xx_lim)\n",
        "plt.figure(1)\n",
        "my_hist_plot(X,'X',1000,'b',[0.3,1])\n",
        "plt.figure(2)\n",
        "my_hist_plot(Y,'Y',1000,'g',Yx_lim)"
      ],
      "execution_count": 0,
      "outputs": [
        {
          "output_type": "display_data",
          "data": {
            "image/png": "[encoded data removed]",
            "text/plain": [
              "<Figure size 432x288 with 1 Axes>"
            ]
          },
          "metadata": {
            "tags": []
          }
        },
        {
          "output_type": "display_data",
          "data": {
            "image/png": "[encoded data removed]",
            "text/plain": [
              "<Figure size 432x288 with 1 Axes>"
            ]
          },
          "metadata": {
            "tags": []
          }
        },
        {
          "output_type": "display_data",
          "data": {
            "image/png": "[encoded data removed]",
            "text/plain": [
              "<Figure size 432x288 with 1 Axes>"
            ]
          },
          "metadata": {
            "tags": []
          }
        }
      ]
    },
    {
      "cell_type": "code",
      "metadata": {
        "id": "sSGSj4J4ovCU",
        "colab_type": "code",
        "outputId": "dd87fdb1-3ba3-4072-ca98-a7328a767666",
        "colab": {
          "base_uri": "https://localhost:8080/",
          "height": 265
        }
      },
      "source": [
        "hist_both_step(X,Y,'X','Y',1000)"
      ],
      "execution_count": 0,
      "outputs": [
        {
          "output_type": "display_data",
          "data": {
            "image/png": "[encoded data removed]",
            "text/plain": [
              "<Figure size 432x288 with 1 Axes>"
            ]
          },
          "metadata": {
            "tags": []
          }
        }
      ]
    },
    {
      "cell_type": "code",
      "metadata": {
        "id": "1-REqMm3rayS",
        "colab_type": "code",
        "outputId": "8fb5d938-0895-4538-ff26-f643d99cf215",
        "colab": {
          "base_uri": "https://localhost:8080/",
          "height": 265
        }
      },
      "source": [
        "hist_both_fill(X, Y, 'X', 'Y', 1000)"
      ],
      "execution_count": 0,
      "outputs": [
        {
          "output_type": "display_data",
          "data": {
            "image/png": "[encoded data removed]",
            "text/plain": [
              "<Figure size 432x288 with 1 Axes>"
            ]
          },
          "metadata": {
            "tags": []
          }
        }
      ]
    },
    {
      "cell_type": "markdown",
      "metadata": {
        "id": "IGCFeuPbxEfM",
        "colab_type": "text"
      },
      "source": [
        "From the histograms above, we can understand visually some concepts. \n",
        "\n",
        "* The _Mean_ gives us the information of where the histogram must be centered. For the X distribution, it's in 0.0, for the Y one, it happens in 10.0.\n",
        "\n",
        "* _Standard Deviation_ (std) is a measure of how disperse the data is. We can see the data from Y is more distributed than X's. Numerically, we defined ```std(X) = 1``` and ```std(Y) = 1.67``` (```std(Y) > std(X)```). From the graph, we can \"guess\" the values of ```std```. That's because of the [**Three Sigma Rule of Thumb**](https://en.wikipedia.org/wiki/68%E2%80%9395%E2%80%9399.7_rule). It states that aprox. 99% of data is concentrated inside the boundaries of three times the std around the mean, for and approximate normal distribution. Well... ```3*1.67 ~ 5``` and for Y we see the data concentrated around ```10.0``` goes near ```5.0``` and ```15.0```. For X distribution, the data around 0.0 goes from ```~-3.0``` to ```~3.0```.\n",
        "\n",
        "* The _Median_ [separates the data in two halves](https://en.wikipedia.org/wiki/Median). We can check out the graph and compare with the numerical values.\n",
        "\n",
        "Other concepts to be analized:\n",
        "\n",
        "* _Variance_ is defined as the _Standard Deviation_ squared.\n",
        "\n",
        "* The _Mode_ [is the value where the histogram reaches its peak](https://en.wikipedia.org/wiki/Mode_(statistics)#Mode_of_a_sample). For some reason, the numerical value that appears in the table doesn't match the graph. \n"
      ]
    },
    {
      "cell_type": "markdown",
      "metadata": {
        "id": "qBvB8hum6T-v",
        "colab_type": "text"
      },
      "source": [
        "## Covariance and Correlation Matrices (b.4)"
      ]
    },
    {
      "cell_type": "code",
      "metadata": {
        "id": "l1RFw45r6f5y",
        "colab_type": "code",
        "colab": {}
      },
      "source": [
        "data_sequence = np.array([X.tolist(), Y.tolist()])"
      ],
      "execution_count": 0,
      "outputs": []
    },
    {
      "cell_type": "code",
      "metadata": {
        "id": "poAvqKe6G-mN",
        "colab_type": "code",
        "outputId": "d6cc4151-7d8f-44be-b835-8c9269d2f9bc",
        "colab": {
          "base_uri": "https://localhost:8080/",
          "height": 52
        }
      },
      "source": [
        "np.cov(data_sequence)"
      ],
      "execution_count": 0,
      "outputs": [
        {
          "output_type": "execute_result",
          "data": {
            "text/plain": [
              "array([[ 0.97510226, -0.05052014],\n",
              "       [-0.05052014,  2.61677445]])"
            ]
          },
          "metadata": {
            "tags": []
          },
          "execution_count": 53
        }
      ]
    },
    {
      "cell_type": "code",
      "metadata": {
        "id": "vH4grVihhHPZ",
        "colab_type": "code",
        "outputId": "d0629385-23ba-4d15-8c8f-2110bc82a07f",
        "colab": {
          "base_uri": "https://localhost:8080/",
          "height": 52
        }
      },
      "source": [
        "cor = np.corrcoef(X,Y)\n",
        "cor"
      ],
      "execution_count": 0,
      "outputs": [
        {
          "output_type": "execute_result",
          "data": {
            "text/plain": [
              "array([[ 1.        , -0.03162688],\n",
              "       [-0.03162688,  1.        ]])"
            ]
          },
          "metadata": {
            "tags": []
          },
          "execution_count": 54
        }
      ]
    },
    {
      "cell_type": "markdown",
      "metadata": {
        "id": "VTwUNM5eh-yH",
        "colab_type": "text"
      },
      "source": [
        "As can be seen, the [covariance](https://en.wikipedia.org/wiki/Covariance_matrix) in the main diagonal equals the table values we found before.\n",
        "\n",
        "The [correlation](https://en.wikipedia.org/wiki/Pearson_correlation_coefficient)  of X and Y together approaches 0. This makes sense, since the data is aproximally random. They have nothing to do with one another. It's also negative, so the correlation found varies in opposite ways (when the first sequence increases, the second one decreases, and vice-versa)."
      ]
    },
    {
      "cell_type": "markdown",
      "metadata": {
        "id": "tNunSvt2O3Hg",
        "colab_type": "text"
      },
      "source": [
        "##Testing..."
      ]
    }
  ]
}